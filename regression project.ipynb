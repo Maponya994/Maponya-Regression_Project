{
 "cells": [
  {
   "cell_type": "code",
   "execution_count": 1,
   "id": "37268e2e",
   "metadata": {},
   "outputs": [],
   "source": [
    "import pandas as pd\n",
    "import numpy as np\n",
    "from sklearn.model_selection import train_test_split    "
   ]
  },
  {
   "cell_type": "code",
   "execution_count": 2,
   "id": "57ba8d2d",
   "metadata": {},
   "outputs": [
    {
     "data": {
      "text/html": [
       "<div>\n",
       "<style scoped>\n",
       "    .dataframe tbody tr th:only-of-type {\n",
       "        vertical-align: middle;\n",
       "    }\n",
       "\n",
       "    .dataframe tbody tr th {\n",
       "        vertical-align: top;\n",
       "    }\n",
       "\n",
       "    .dataframe thead th {\n",
       "        text-align: right;\n",
       "    }\n",
       "</style>\n",
       "<table border=\"1\" class=\"dataframe\">\n",
       "  <thead>\n",
       "    <tr style=\"text-align: right;\">\n",
       "      <th></th>\n",
       "      <th>Area</th>\n",
       "      <th>Year</th>\n",
       "      <th>Savanna fires</th>\n",
       "      <th>Forest fires</th>\n",
       "      <th>Crop Residues</th>\n",
       "      <th>Rice Cultivation</th>\n",
       "      <th>Drained organic soils (CO2)</th>\n",
       "      <th>Pesticides Manufacturing</th>\n",
       "      <th>Food Transport</th>\n",
       "      <th>Forestland</th>\n",
       "      <th>...</th>\n",
       "      <th>Manure Management</th>\n",
       "      <th>Fires in organic soils</th>\n",
       "      <th>Fires in humid tropical forests</th>\n",
       "      <th>On-farm energy use</th>\n",
       "      <th>Rural population</th>\n",
       "      <th>Urban population</th>\n",
       "      <th>Total Population - Male</th>\n",
       "      <th>Total Population - Female</th>\n",
       "      <th>total_emission</th>\n",
       "      <th>Average Temperature °C</th>\n",
       "    </tr>\n",
       "  </thead>\n",
       "  <tbody>\n",
       "    <tr>\n",
       "      <th>0</th>\n",
       "      <td>Afghanistan</td>\n",
       "      <td>1990</td>\n",
       "      <td>14.7237</td>\n",
       "      <td>0.0557</td>\n",
       "      <td>205.6077</td>\n",
       "      <td>686.00</td>\n",
       "      <td>0.0</td>\n",
       "      <td>11.807483</td>\n",
       "      <td>63.1152</td>\n",
       "      <td>-2388.803</td>\n",
       "      <td>...</td>\n",
       "      <td>319.1763</td>\n",
       "      <td>0.0</td>\n",
       "      <td>0.0</td>\n",
       "      <td>NaN</td>\n",
       "      <td>9655167.0</td>\n",
       "      <td>2593947.0</td>\n",
       "      <td>5348387.0</td>\n",
       "      <td>5346409.0</td>\n",
       "      <td>2198.963539</td>\n",
       "      <td>0.536167</td>\n",
       "    </tr>\n",
       "    <tr>\n",
       "      <th>1</th>\n",
       "      <td>Afghanistan</td>\n",
       "      <td>1991</td>\n",
       "      <td>14.7237</td>\n",
       "      <td>0.0557</td>\n",
       "      <td>209.4971</td>\n",
       "      <td>678.16</td>\n",
       "      <td>0.0</td>\n",
       "      <td>11.712073</td>\n",
       "      <td>61.2125</td>\n",
       "      <td>-2388.803</td>\n",
       "      <td>...</td>\n",
       "      <td>342.3079</td>\n",
       "      <td>0.0</td>\n",
       "      <td>0.0</td>\n",
       "      <td>NaN</td>\n",
       "      <td>10230490.0</td>\n",
       "      <td>2763167.0</td>\n",
       "      <td>5372959.0</td>\n",
       "      <td>5372208.0</td>\n",
       "      <td>2323.876629</td>\n",
       "      <td>0.020667</td>\n",
       "    </tr>\n",
       "    <tr>\n",
       "      <th>2</th>\n",
       "      <td>Afghanistan</td>\n",
       "      <td>1992</td>\n",
       "      <td>14.7237</td>\n",
       "      <td>0.0557</td>\n",
       "      <td>196.5341</td>\n",
       "      <td>686.00</td>\n",
       "      <td>0.0</td>\n",
       "      <td>11.712073</td>\n",
       "      <td>53.3170</td>\n",
       "      <td>-2388.803</td>\n",
       "      <td>...</td>\n",
       "      <td>349.1224</td>\n",
       "      <td>0.0</td>\n",
       "      <td>0.0</td>\n",
       "      <td>NaN</td>\n",
       "      <td>10995568.0</td>\n",
       "      <td>2985663.0</td>\n",
       "      <td>6028494.0</td>\n",
       "      <td>6028939.0</td>\n",
       "      <td>2356.304229</td>\n",
       "      <td>-0.259583</td>\n",
       "    </tr>\n",
       "    <tr>\n",
       "      <th>3</th>\n",
       "      <td>Afghanistan</td>\n",
       "      <td>1993</td>\n",
       "      <td>14.7237</td>\n",
       "      <td>0.0557</td>\n",
       "      <td>230.8175</td>\n",
       "      <td>686.00</td>\n",
       "      <td>0.0</td>\n",
       "      <td>11.712073</td>\n",
       "      <td>54.3617</td>\n",
       "      <td>-2388.803</td>\n",
       "      <td>...</td>\n",
       "      <td>352.2947</td>\n",
       "      <td>0.0</td>\n",
       "      <td>0.0</td>\n",
       "      <td>NaN</td>\n",
       "      <td>11858090.0</td>\n",
       "      <td>3237009.0</td>\n",
       "      <td>7003641.0</td>\n",
       "      <td>7000119.0</td>\n",
       "      <td>2368.470529</td>\n",
       "      <td>0.101917</td>\n",
       "    </tr>\n",
       "    <tr>\n",
       "      <th>4</th>\n",
       "      <td>Afghanistan</td>\n",
       "      <td>1994</td>\n",
       "      <td>14.7237</td>\n",
       "      <td>0.0557</td>\n",
       "      <td>242.0494</td>\n",
       "      <td>705.60</td>\n",
       "      <td>0.0</td>\n",
       "      <td>11.712073</td>\n",
       "      <td>53.9874</td>\n",
       "      <td>-2388.803</td>\n",
       "      <td>...</td>\n",
       "      <td>367.6784</td>\n",
       "      <td>0.0</td>\n",
       "      <td>0.0</td>\n",
       "      <td>NaN</td>\n",
       "      <td>12690115.0</td>\n",
       "      <td>3482604.0</td>\n",
       "      <td>7733458.0</td>\n",
       "      <td>7722096.0</td>\n",
       "      <td>2500.768729</td>\n",
       "      <td>0.372250</td>\n",
       "    </tr>\n",
       "  </tbody>\n",
       "</table>\n",
       "<p>5 rows × 31 columns</p>\n",
       "</div>"
      ],
      "text/plain": [
       "          Area  Year  Savanna fires  Forest fires  Crop Residues  \\\n",
       "0  Afghanistan  1990        14.7237        0.0557       205.6077   \n",
       "1  Afghanistan  1991        14.7237        0.0557       209.4971   \n",
       "2  Afghanistan  1992        14.7237        0.0557       196.5341   \n",
       "3  Afghanistan  1993        14.7237        0.0557       230.8175   \n",
       "4  Afghanistan  1994        14.7237        0.0557       242.0494   \n",
       "\n",
       "   Rice Cultivation  Drained organic soils (CO2)  Pesticides Manufacturing  \\\n",
       "0            686.00                          0.0                 11.807483   \n",
       "1            678.16                          0.0                 11.712073   \n",
       "2            686.00                          0.0                 11.712073   \n",
       "3            686.00                          0.0                 11.712073   \n",
       "4            705.60                          0.0                 11.712073   \n",
       "\n",
       "   Food Transport  Forestland  ...  Manure Management  Fires in organic soils  \\\n",
       "0         63.1152   -2388.803  ...           319.1763                     0.0   \n",
       "1         61.2125   -2388.803  ...           342.3079                     0.0   \n",
       "2         53.3170   -2388.803  ...           349.1224                     0.0   \n",
       "3         54.3617   -2388.803  ...           352.2947                     0.0   \n",
       "4         53.9874   -2388.803  ...           367.6784                     0.0   \n",
       "\n",
       "   Fires in humid tropical forests  On-farm energy use  Rural population  \\\n",
       "0                              0.0                 NaN         9655167.0   \n",
       "1                              0.0                 NaN        10230490.0   \n",
       "2                              0.0                 NaN        10995568.0   \n",
       "3                              0.0                 NaN        11858090.0   \n",
       "4                              0.0                 NaN        12690115.0   \n",
       "\n",
       "   Urban population  Total Population - Male  Total Population - Female  \\\n",
       "0         2593947.0                5348387.0                  5346409.0   \n",
       "1         2763167.0                5372959.0                  5372208.0   \n",
       "2         2985663.0                6028494.0                  6028939.0   \n",
       "3         3237009.0                7003641.0                  7000119.0   \n",
       "4         3482604.0                7733458.0                  7722096.0   \n",
       "\n",
       "   total_emission  Average Temperature °C  \n",
       "0     2198.963539                0.536167  \n",
       "1     2323.876629                0.020667  \n",
       "2     2356.304229               -0.259583  \n",
       "3     2368.470529                0.101917  \n",
       "4     2500.768729                0.372250  \n",
       "\n",
       "[5 rows x 31 columns]"
      ]
     },
     "execution_count": 2,
     "metadata": {},
     "output_type": "execute_result"
    }
   ],
   "source": [
    "# load the dataset\n",
    "\n",
    "data = pd.read_csv(\"co2_emissions_from_agri.csv\")\n",
    "data.head()"
   ]
  },
  {
   "cell_type": "code",
   "execution_count": 3,
   "id": "a68989f6",
   "metadata": {},
   "outputs": [
    {
     "name": "stdout",
     "output_type": "stream",
     "text": [
      "Data Info:\n",
      "<class 'pandas.core.frame.DataFrame'>\n",
      "RangeIndex: 6965 entries, 0 to 6964\n",
      "Data columns (total 31 columns):\n",
      " #   Column                           Non-Null Count  Dtype  \n",
      "---  ------                           --------------  -----  \n",
      " 0   Area                             6965 non-null   object \n",
      " 1   Year                             6965 non-null   int64  \n",
      " 2   Savanna fires                    6934 non-null   float64\n",
      " 3   Forest fires                     6872 non-null   float64\n",
      " 4   Crop Residues                    5576 non-null   float64\n",
      " 5   Rice Cultivation                 6965 non-null   float64\n",
      " 6   Drained organic soils (CO2)      6965 non-null   float64\n",
      " 7   Pesticides Manufacturing         6965 non-null   float64\n",
      " 8   Food Transport                   6965 non-null   float64\n",
      " 9   Forestland                       6472 non-null   float64\n",
      " 10  Net Forest conversion            6472 non-null   float64\n",
      " 11  Food Household Consumption       6492 non-null   float64\n",
      " 12  Food Retail                      6965 non-null   float64\n",
      " 13  On-farm Electricity Use          6965 non-null   float64\n",
      " 14  Food Packaging                   6965 non-null   float64\n",
      " 15  Agrifood Systems Waste Disposal  6965 non-null   float64\n",
      " 16  Food Processing                  6965 non-null   float64\n",
      " 17  Fertilizers Manufacturing        6965 non-null   float64\n",
      " 18  IPPU                             6222 non-null   float64\n",
      " 19  Manure applied to Soils          6037 non-null   float64\n",
      " 20  Manure left on Pasture           6965 non-null   float64\n",
      " 21  Manure Management                6037 non-null   float64\n",
      " 22  Fires in organic soils           6965 non-null   float64\n",
      " 23  Fires in humid tropical forests  6810 non-null   float64\n",
      " 24  On-farm energy use               6009 non-null   float64\n",
      " 25  Rural population                 6965 non-null   float64\n",
      " 26  Urban population                 6965 non-null   float64\n",
      " 27  Total Population - Male          6965 non-null   float64\n",
      " 28  Total Population - Female        6965 non-null   float64\n",
      " 29  total_emission                   6965 non-null   float64\n",
      " 30  Average Temperature °C           6965 non-null   float64\n",
      "dtypes: float64(29), int64(1), object(1)\n",
      "memory usage: 1.6+ MB\n",
      "None\n"
     ]
    }
   ],
   "source": [
    "# check basic info about the data (like column names and data types)\n",
    "print(\"Data Info:\")\n",
    "print(data.info())\n",
    "\n"
   ]
  },
  {
   "cell_type": "code",
   "execution_count": 4,
   "id": "44efa481",
   "metadata": {},
   "outputs": [
    {
     "name": "stdout",
     "output_type": "stream",
     "text": [
      "\n",
      "Missing values in each column:\n",
      "Area                                  0\n",
      "Year                                  0\n",
      "Savanna fires                        31\n",
      "Forest fires                         93\n",
      "Crop Residues                      1389\n",
      "Rice Cultivation                      0\n",
      "Drained organic soils (CO2)           0\n",
      "Pesticides Manufacturing              0\n",
      "Food Transport                        0\n",
      "Forestland                          493\n",
      "Net Forest conversion               493\n",
      "Food Household Consumption          473\n",
      "Food Retail                           0\n",
      "On-farm Electricity Use               0\n",
      "Food Packaging                        0\n",
      "Agrifood Systems Waste Disposal       0\n",
      "Food Processing                       0\n",
      "Fertilizers Manufacturing             0\n",
      "IPPU                                743\n",
      "Manure applied to Soils             928\n",
      "Manure left on Pasture                0\n",
      "Manure Management                   928\n",
      "Fires in organic soils                0\n",
      "Fires in humid tropical forests     155\n",
      "On-farm energy use                  956\n",
      "Rural population                      0\n",
      "Urban population                      0\n",
      "Total Population - Male               0\n",
      "Total Population - Female             0\n",
      "total_emission                        0\n",
      "Average Temperature °C                0\n",
      "dtype: int64\n"
     ]
    }
   ],
   "source": [
    "# check if there are any missing values in the columns\n",
    "print(\"\\nMissing values in each column:\")\n",
    "print(data.isnull().sum())\n"
   ]
  },
  {
   "cell_type": "code",
   "execution_count": 5,
   "id": "93932ce2",
   "metadata": {},
   "outputs": [
    {
     "name": "stdout",
     "output_type": "stream",
     "text": [
      "\n",
      "Summary statistics:\n",
      "              Year  Savanna fires  Forest fires  Crop Residues  \\\n",
      "count  6965.000000    6934.000000   6872.000000    5576.000000   \n",
      "mean   2005.124910    1188.390893    919.302167     998.706309   \n",
      "std       8.894665    5246.287783   3720.078752    3700.345330   \n",
      "min    1990.000000       0.000000      0.000000       0.000200   \n",
      "25%    1997.000000       0.000000      0.000000      11.006525   \n",
      "50%    2005.000000       1.651850      0.517900     103.698200   \n",
      "75%    2013.000000     111.081400     64.950775     377.640975   \n",
      "max    2020.000000  114616.401100  52227.630600   33490.074100   \n",
      "\n",
      "       Rice Cultivation  Drained organic soils (CO2)  \\\n",
      "count       6965.000000                  6965.000000   \n",
      "mean        4259.666673                  3503.228636   \n",
      "std        17613.825187                 15861.445678   \n",
      "min            0.000000                     0.000000   \n",
      "25%          181.260800                     0.000000   \n",
      "50%          534.817400                     0.000000   \n",
      "75%         1536.640000                   690.408800   \n",
      "max       164915.255600                241025.069600   \n",
      "\n",
      "       Pesticides Manufacturing  Food Transport     Forestland  \\\n",
      "count               6965.000000     6965.000000    6472.000000   \n",
      "mean                 333.418393     1939.581760  -17828.285678   \n",
      "std                 1429.159367     5616.748808   81832.210543   \n",
      "min                    0.000000        0.000100 -797183.079000   \n",
      "25%                    6.000000       27.958600   -2848.350000   \n",
      "50%                   13.000000      204.962800     -62.920000   \n",
      "75%                  116.325487     1207.000900       0.000000   \n",
      "max                16459.000000    67945.765000  171121.076000   \n",
      "\n",
      "       Net Forest conversion  ...  Manure Management  Fires in organic soils  \\\n",
      "count           6.472000e+03  ...        6037.000000             6965.000000   \n",
      "mean            1.760564e+04  ...        2263.344946             1210.315532   \n",
      "std             1.011575e+05  ...        7980.542461            22669.847760   \n",
      "min             0.000000e+00  ...           0.432900                0.000000   \n",
      "25%             0.000000e+00  ...          37.632100                0.000000   \n",
      "50%             4.444000e+01  ...         269.856300                0.000000   \n",
      "75%             4.701746e+03  ...        1126.818900                0.000000   \n",
      "max             1.605106e+06  ...       70592.646500           991717.543100   \n",
      "\n",
      "       Fires in humid tropical forests  On-farm energy use  Rural population  \\\n",
      "count                      6810.000000         6009.000000      6.965000e+03   \n",
      "mean                        668.452931         3008.982252      1.785774e+07   \n",
      "std                        3264.879486        12637.864430      8.901521e+07   \n",
      "min                           0.000000            0.031900      0.000000e+00   \n",
      "25%                           0.000000           13.291900      9.731100e+04   \n",
      "50%                           0.000000          141.096300      1.595322e+06   \n",
      "75%                           9.577875         1136.925400      8.177340e+06   \n",
      "max                       51771.256800       248879.176900      9.000991e+08   \n",
      "\n",
      "       Urban population  Total Population - Male  Total Population - Female  \\\n",
      "count      6.965000e+03             6.965000e+03               6.965000e+03   \n",
      "mean       1.693230e+07             1.761963e+07               1.732447e+07   \n",
      "std        6.574362e+07             7.603993e+07               7.251711e+07   \n",
      "min        0.000000e+00             2.500000e+02               2.700000e+02   \n",
      "25%        2.173860e+05             2.013260e+05               2.078900e+05   \n",
      "50%        2.357581e+06             2.469660e+06               2.444135e+06   \n",
      "75%        8.277123e+06             9.075924e+06               9.112588e+06   \n",
      "max        9.020778e+08             7.435866e+08               7.133419e+08   \n",
      "\n",
      "       total_emission  Average Temperature °C  \n",
      "count    6.965000e+03             6965.000000  \n",
      "mean     6.409124e+04                0.872989  \n",
      "std      2.283130e+05                0.555930  \n",
      "min     -3.918841e+05               -1.415833  \n",
      "25%      5.221244e+03                0.511333  \n",
      "50%      1.214765e+04                0.834300  \n",
      "75%      3.513973e+04                1.206750  \n",
      "max      3.115114e+06                3.558083  \n",
      "\n",
      "[8 rows x 30 columns]\n"
     ]
    }
   ],
   "source": [
    "# get basic summary stats \n",
    "print(\"\\nSummary statistics:\")\n",
    "print(data.describe())\n"
   ]
  },
  {
   "cell_type": "markdown",
   "id": "c2ad4939",
   "metadata": {},
   "source": [
    "# Step 1: Exploring the Data\n",
    "\n",
    "After loading the dataset and checking the summary statistics, a few things stand out:\n",
    "\n",
    "## 1. Missing Data\n",
    "Some columns like **Crop Residues** and **Forestland** have fewer records than others.  \n",
    "This means there are **missing values** that will need to be cleaned or filled in later.\n",
    "\n",
    "## 2. Large Ranges\n",
    "Many columns have **very large maximum values**, for example:\n",
    "- Savanna fires: up to **114,616**\n",
    "- Forest fires: up to **52,227**\n",
    "- Rice Cultivation: up to **164,915**\n",
    "- Drained organic soils (CO2): up to **241,025**\n",
    "\n",
    "These big ranges show that some countries or years have **much higher emissions** than others.  \n",
    "We’ll need to **scale or normalize** the data before doing regression.\n",
    "\n",
    "## 3. Negative Forestland Values\n",
    "The **Forestland** column has **negative numbers**, which likely mean **deforestation** (loss of forest area).  \n",
    "This makes sense in the context of emissions data but is worth keeping in mind.\n",
    "\n",
    "## 4. Many Zero Values\n",
    "Several columns like *Savanna fires*, *Forest fires*, and *Drained organic soils* have lots of zeros.  \n",
    "That probably means that some areas **didn’t report or experience** those activities.\n",
    "\n",
    "## 5. Outliers\n",
    "Some features have **extreme values** compared to their averages.  \n",
    "These **outliers** could affect the model’s accuracy, so they may need to be handled or at least noted during analysis.\n",
    "\n",
    "---\n",
    "\n",
    "**Summary:**  \n",
    "The dataset has **missing values, uneven scales, outliers, and negative forestland values**.  \n",
    "We’ll need to clean and prepare the data carefully before running the regression model.\n"
   ]
  },
  {
   "cell_type": "code",
   "execution_count": 32,
   "id": "9b186364",
   "metadata": {},
   "outputs": [
    {
     "name": "stdout",
     "output_type": "stream",
     "text": [
      "Index(['Area', 'Year', 'Savanna fires', 'Forest fires', 'Crop Residues',\n",
      "       'Rice Cultivation', 'Drained organic soils (CO2)',\n",
      "       'Pesticides Manufacturing', 'Food Transport', 'Forestland',\n",
      "       'Net Forest conversion', 'Food Household Consumption', 'Food Retail',\n",
      "       'On-farm Electricity Use', 'Food Packaging',\n",
      "       'Agrifood Systems Waste Disposal', 'Food Processing',\n",
      "       'Fertilizers Manufacturing', 'IPPU', 'Manure applied to Soils',\n",
      "       'Manure left on Pasture', 'Manure Management', 'Fires in organic soils',\n",
      "       'Fires in humid tropical forests', 'On-farm energy use',\n",
      "       'Rural population', 'Urban population', 'Total Population - Male',\n",
      "       'Total Population - Female', 'total_emission',\n",
      "       'Average Temperature °C'],\n",
      "      dtype='object')\n"
     ]
    }
   ],
   "source": [
    "# reload the clean data\n",
    "data = pd.read_csv(\"co2_emissions_from_agri.csv\")\n",
    "\n",
    "# check the column names again\n",
    "print(data.columns)\n"
   ]
  },
  {
   "cell_type": "code",
   "execution_count": 33,
   "id": "95db6026",
   "metadata": {},
   "outputs": [],
   "source": [
    "# rename the temperature column\n",
    "data = data.rename(columns={\"Average Temperature °C\": \"Average_Temperature_C\"})\n",
    "\n",
    "# turn the 'Area' column (text) into numbers using one-hot encoding\n",
    "# this helps the model understand it\n",
    "data = pd.get_dummies(data, columns=['Area'], drop_first=True)\n"
   ]
  },
  {
   "cell_type": "code",
   "execution_count": 34,
   "id": "6b2eb633",
   "metadata": {},
   "outputs": [
    {
     "name": "stdout",
     "output_type": "stream",
     "text": [
      "Index(['Year', 'Savanna fires', 'Forest fires', 'Crop Residues',\n",
      "       'Rice Cultivation', 'Drained organic soils (CO2)',\n",
      "       'Pesticides Manufacturing', 'Food Transport', 'Forestland',\n",
      "       'Net Forest conversion',\n",
      "       ...\n",
      "       'Area_Uzbekistan', 'Area_Vanuatu',\n",
      "       'Area_Venezuela (Bolivarian Republic of)', 'Area_Viet Nam',\n",
      "       'Area_Wallis and Futuna Islands', 'Area_Western Sahara', 'Area_Yemen',\n",
      "       'Area_Yugoslav SFR', 'Area_Zambia', 'Area_Zimbabwe'],\n",
      "      dtype='object', length=265)\n"
     ]
    }
   ],
   "source": [
    "print(data.columns)\n"
   ]
  },
  {
   "cell_type": "code",
   "execution_count": 30,
   "id": "fba3cdc6",
   "metadata": {},
   "outputs": [],
   "source": [
    "# X will have all the features (independent variables)\n",
    "# y will be the target (Average Temperature)\n",
    "X = data.drop(\"Average_Temperature_C\", axis=1)\n",
    "y = data[\"Average_Temperature_C\"]\n",
    "\n"
   ]
  },
  {
   "cell_type": "markdown",
   "id": "3c39be44",
   "metadata": {},
   "source": [
    "This gives an overview of the columns, data types, and if there are any missing values.\n"
   ]
  },
  {
   "cell_type": "code",
   "execution_count": 44,
   "id": "2c319f69",
   "metadata": {},
   "outputs": [
    {
     "name": "stdout",
     "output_type": "stream",
     "text": [
      "\n",
      "--- Summary Statistics ---\n",
      "              Year  Savanna fires  Forest fires  Crop Residues  \\\n",
      "count  6965.000000    6934.000000   6872.000000    5576.000000   \n",
      "mean   2005.124910    1188.390893    919.302167     998.706309   \n",
      "std       8.894665    5246.287783   3720.078752    3700.345330   \n",
      "min    1990.000000       0.000000      0.000000       0.000200   \n",
      "25%    1997.000000       0.000000      0.000000      11.006525   \n",
      "50%    2005.000000       1.651850      0.517900     103.698200   \n",
      "75%    2013.000000     111.081400     64.950775     377.640975   \n",
      "max    2020.000000  114616.401100  52227.630600   33490.074100   \n",
      "\n",
      "       Rice Cultivation  Drained organic soils (CO2)  \\\n",
      "count       6965.000000                  6965.000000   \n",
      "mean        4259.666673                  3503.228636   \n",
      "std        17613.825187                 15861.445678   \n",
      "min            0.000000                     0.000000   \n",
      "25%          181.260800                     0.000000   \n",
      "50%          534.817400                     0.000000   \n",
      "75%         1536.640000                   690.408800   \n",
      "max       164915.255600                241025.069600   \n",
      "\n",
      "       Pesticides Manufacturing  Food Transport     Forestland  \\\n",
      "count               6965.000000     6965.000000    6472.000000   \n",
      "mean                 333.418393     1939.581760  -17828.285678   \n",
      "std                 1429.159367     5616.748808   81832.210543   \n",
      "min                    0.000000        0.000100 -797183.079000   \n",
      "25%                    6.000000       27.958600   -2848.350000   \n",
      "50%                   13.000000      204.962800     -62.920000   \n",
      "75%                  116.325487     1207.000900       0.000000   \n",
      "max                16459.000000    67945.765000  171121.076000   \n",
      "\n",
      "       Net Forest conversion  Food Household Consumption    Food Retail  \\\n",
      "count           6.472000e+03                 6492.000000    6965.000000   \n",
      "mean            1.760564e+04                 4847.580384    2043.210539   \n",
      "std             1.011575e+05                25789.143619    8494.249260   \n",
      "min             0.000000e+00                    0.000000       0.000000   \n",
      "25%             0.000000e+00                   11.399950      26.818500   \n",
      "50%             4.444000e+01                  155.471100     172.042600   \n",
      "75%             4.701746e+03                 1377.151950    1075.999100   \n",
      "max             1.605106e+06               466288.200700  133784.065300   \n",
      "\n",
      "       On-farm Electricity Use  Food Packaging  \\\n",
      "count              6965.000000     6965.000000   \n",
      "mean               1626.681460     1658.629808   \n",
      "std                9343.182193    11481.343725   \n",
      "min                   0.000000        0.000000   \n",
      "25%                   8.037600       67.631366   \n",
      "50%                  29.120700       74.018133   \n",
      "75%                 499.944700      281.791000   \n",
      "max              165676.299000   175741.306100   \n",
      "\n",
      "       Agrifood Systems Waste Disposal  Food Processing  \\\n",
      "count                      6965.000000      6965.000000   \n",
      "mean                       6018.444633      3872.724461   \n",
      "std                       22156.742542     19838.216846   \n",
      "min                           0.340000         0.000100   \n",
      "25%                          86.680500       209.587728   \n",
      "50%                         901.275700       344.760200   \n",
      "75%                        3006.442100      1236.913400   \n",
      "max                      213289.701600    274253.512500   \n",
      "\n",
      "       Fertilizers Manufacturing          IPPU  Manure applied to Soils  \\\n",
      "count                6965.000000  6.222000e+03              6037.000000   \n",
      "mean                 3035.723356  1.999150e+04               923.225603   \n",
      "std                 11693.029064  1.114209e+05              3226.992039   \n",
      "min                     0.001900  0.000000e+00                 0.049000   \n",
      "25%                   360.358799  3.903153e+01                16.303000   \n",
      "50%                  1115.052400  8.037066e+02               120.443900   \n",
      "75%                  2024.869900  6.155175e+03               460.120200   \n",
      "max                170826.423300  1.861641e+06             34677.360300   \n",
      "\n",
      "       Manure left on Pasture  Manure Management  Fires in organic soils  \\\n",
      "count             6965.000000        6037.000000             6965.000000   \n",
      "mean              3518.026573        2263.344946             1210.315532   \n",
      "std               9103.556202        7980.542461            22669.847760   \n",
      "min                  0.000700           0.432900                0.000000   \n",
      "25%                139.669900          37.632100                0.000000   \n",
      "50%                972.567400         269.856300                0.000000   \n",
      "75%               2430.792600        1126.818900                0.000000   \n",
      "max              92630.756800       70592.646500           991717.543100   \n",
      "\n",
      "       Fires in humid tropical forests  On-farm energy use  Rural population  \\\n",
      "count                      6810.000000         6009.000000      6.965000e+03   \n",
      "mean                        668.452931         3008.982252      1.785774e+07   \n",
      "std                        3264.879486        12637.864430      8.901521e+07   \n",
      "min                           0.000000            0.031900      0.000000e+00   \n",
      "25%                           0.000000           13.291900      9.731100e+04   \n",
      "50%                           0.000000          141.096300      1.595322e+06   \n",
      "75%                           9.577875         1136.925400      8.177340e+06   \n",
      "max                       51771.256800       248879.176900      9.000991e+08   \n",
      "\n",
      "       Urban population  Total Population - Male  Total Population - Female  \\\n",
      "count      6.965000e+03             6.965000e+03               6.965000e+03   \n",
      "mean       1.693230e+07             1.761963e+07               1.732447e+07   \n",
      "std        6.574362e+07             7.603993e+07               7.251711e+07   \n",
      "min        0.000000e+00             2.500000e+02               2.700000e+02   \n",
      "25%        2.173860e+05             2.013260e+05               2.078900e+05   \n",
      "50%        2.357581e+06             2.469660e+06               2.444135e+06   \n",
      "75%        8.277123e+06             9.075924e+06               9.112588e+06   \n",
      "max        9.020778e+08             7.435866e+08               7.133419e+08   \n",
      "\n",
      "       total_emission  Average_Temperature_C  \n",
      "count    6.965000e+03            6965.000000  \n",
      "mean     6.409124e+04               0.872989  \n",
      "std      2.283130e+05               0.555930  \n",
      "min     -3.918841e+05              -1.415833  \n",
      "25%      5.221244e+03               0.511333  \n",
      "50%      1.214765e+04               0.834300  \n",
      "75%      3.513973e+04               1.206750  \n",
      "max      3.115114e+06               3.558083  \n"
     ]
    }
   ],
   "source": [
    "# get summary statistics for the numeric columns\n",
    "print(\"\\n--- Summary Statistics ---\")\n",
    "print(data.describe())\n"
   ]
  },
  {
   "cell_type": "code",
   "execution_count": 46,
   "id": "12daf5de",
   "metadata": {},
   "outputs": [
    {
     "name": "stdout",
     "output_type": "stream",
     "text": [
      "Year                      0\n",
      "Savanna fires            31\n",
      "Forest fires             93\n",
      "Crop Residues          1389\n",
      "Rice Cultivation          0\n",
      "                       ... \n",
      "Area_Western Sahara       0\n",
      "Area_Yemen                0\n",
      "Area_Yugoslav SFR         0\n",
      "Area_Zambia               0\n",
      "Area_Zimbabwe             0\n",
      "Length: 265, dtype: int64\n"
     ]
    }
   ],
   "source": [
    "# check how many missing values each column has\n",
    "print(data.isnull().sum())\n"
   ]
  },
  {
   "cell_type": "code",
   "execution_count": 47,
   "id": "63513f7e",
   "metadata": {},
   "outputs": [],
   "source": [
    "# fill missing values with the mean for each column\n",
    "data = data.fillna(data.mean(numeric_only=True))\n"
   ]
  },
  {
   "cell_type": "code",
   "execution_count": 48,
   "id": "9a2f6983",
   "metadata": {},
   "outputs": [
    {
     "name": "stdout",
     "output_type": "stream",
     "text": [
      "\n",
      "Missing values after filling:\n",
      "Year                   0\n",
      "Savanna fires          0\n",
      "Forest fires           0\n",
      "Crop Residues          0\n",
      "Rice Cultivation       0\n",
      "                      ..\n",
      "Area_Western Sahara    0\n",
      "Area_Yemen             0\n",
      "Area_Yugoslav SFR      0\n",
      "Area_Zambia            0\n",
      "Area_Zimbabwe          0\n",
      "Length: 265, dtype: int64\n"
     ]
    }
   ],
   "source": [
    "# check again to make sure there are no more missing values\n",
    "print(\"\\nMissing values after filling:\")\n",
    "print(data.isnull().sum())\n"
   ]
  },
  {
   "cell_type": "markdown",
   "id": "15b75c7f",
   "metadata": {},
   "source": [
    "# Step 3: Exploratory Data Analysis (EDA)\n",
    "\n",
    "This step explores the dataset to understand its structure, main patterns, and how different features relate to the target variable (Average Temperature).\n"
   ]
  },
  {
   "cell_type": "code",
   "execution_count": 49,
   "id": "38a2555a",
   "metadata": {},
   "outputs": [
    {
     "name": "stdout",
     "output_type": "stream",
     "text": [
      "\n",
      "Top 10 features most correlated with temperature:\n",
      "Average_Temperature_C      1.000000\n",
      "Year                       0.545932\n",
      "Food Transport             0.075724\n",
      "Area_Estonia               0.075550\n",
      "Food Retail                0.073404\n",
      "Area_Belarus               0.072437\n",
      "Area_Latvia                0.071144\n",
      "Area_Russian Federation    0.071026\n",
      "Area_Finland               0.069664\n",
      "Area_Luxembourg            0.066571\n",
      "Name: Average_Temperature_C, dtype: float64\n",
      "\n",
      "10 features least correlated with temperature:\n",
      "Area_Saint Pierre and Miquelon          -0.051510\n",
      "Area_New Zealand                        -0.052952\n",
      "Area_Nepal                              -0.053055\n",
      "Area_Bangladesh                         -0.054726\n",
      "Area_Botswana                           -0.056790\n",
      "Area_Chile                              -0.058586\n",
      "Area_Zimbabwe                           -0.066460\n",
      "Area_Marshall Islands                   -0.071821\n",
      "Area_Cook Islands                       -0.075245\n",
      "Area_Micronesia (Federated States of)   -0.075854\n",
      "Name: Average_Temperature_C, dtype: float64\n"
     ]
    }
   ],
   "source": [
    "# check how each column relates to temperature\n",
    "corr = data.corr(numeric_only=True)[\"Average_Temperature_C\"].sort_values(ascending=False)\n",
    "\n",
    "# show top 10 most related columns\n",
    "print(\"\\nTop 10 features most correlated with temperature:\")\n",
    "print(corr.head(10))\n",
    "\n",
    "# show 10 least related columns\n",
    "print(\"\\n10 features least correlated with temperature:\")\n",
    "print(corr.tail(10))\n"
   ]
  },
  {
   "cell_type": "code",
   "execution_count": 50,
   "id": "672e582d",
   "metadata": {},
   "outputs": [
    {
     "name": "stdout",
     "output_type": "stream",
     "text": [
      "\n",
      "Top 10 features most correlated with temperature (absolute):\n",
      "Average_Temperature_C                    1.000000\n",
      "Year                                     0.545932\n",
      "Area_Micronesia (Federated States of)    0.075854\n",
      "Food Transport                           0.075724\n",
      "Area_Estonia                             0.075550\n",
      "Area_Cook Islands                        0.075245\n",
      "Food Retail                              0.073404\n",
      "Area_Belarus                             0.072437\n",
      "Area_Marshall Islands                    0.071821\n",
      "Area_Latvia                              0.071144\n",
      "Name: Average_Temperature_C, dtype: float64\n",
      "\n",
      "10 features least correlated with temperature (absolute):\n",
      "Area_Lao People's Democratic Republic                        0.002647\n",
      "Area_Brunei Darussalam                                       0.002569\n",
      "Area_United Kingdom of Great Britain and Northern Ireland    0.002526\n",
      "Area_Thailand                                                0.002407\n",
      "Area_Malaysia                                                0.002171\n",
      "Area_United States of America                                0.002033\n",
      "Area_Albania                                                 0.001648\n",
      "Area_Guam                                                    0.000997\n",
      "Area_Belgium-Luxembourg                                      0.000751\n",
      "Area_USSR                                                    0.000324\n",
      "Name: Average_Temperature_C, dtype: float64\n"
     ]
    }
   ],
   "source": [
    "# check how each column relates to temperature (using absolute correlation)\n",
    "corr = data.corr(numeric_only=True)[\"Average_Temperature_C\"].abs().sort_values(ascending=False)\n",
    "\n",
    "# show top 10 features most strongly related to temperature\n",
    "print(\"\\nTop 10 features most correlated with temperature (absolute):\")\n",
    "print(corr.head(10))\n",
    "\n",
    "# show 10 features least related to temperature\n",
    "print(\"\\n10 features least correlated with temperature (absolute):\")\n",
    "print(corr.tail(10))\n"
   ]
  },
  {
   "cell_type": "markdown",
   "id": "e35e52be",
   "metadata": {},
   "source": [
    "Here I used the **absolute correlation**, which means I focused on how strong the relationship is,\n",
    "not whether it is positive or negative.\n",
    "\n",
    "This helps find the variables that have the biggest overall effect on temperature,\n",
    "no matter the direction of the relationship.\n",
    "\n",
    "EDA helped to understand the dataset better.  \n",
    "I found that:\n",
    "- Temperature values mostly range between 0°C and 2°C.  \n",
    "- Some variables like emissions and energy use show moderate correlation with temperature.  \n",
    "- Others, like population, have weaker or no clear relationship.  \n",
    "\n",
    "This gives a good understanding of what to expect before building the regression model.\n",
    "\n"
   ]
  },
  {
   "cell_type": "markdown",
   "id": "488376bd",
   "metadata": {},
   "source": [
    "# Step 4: Model Building and Evaluation\n",
    "\n",
    "In this step, I split the data, trained three different regression models, and compared how well each model predicted average temperature.\n"
   ]
  },
  {
   "cell_type": "code",
   "execution_count": 53,
   "id": "696d781e",
   "metadata": {},
   "outputs": [
    {
     "name": "stdout",
     "output_type": "stream",
     "text": [
      "Training samples: 5572\n",
      "Testing samples: 1393\n"
     ]
    }
   ],
   "source": [
    "from sklearn.model_selection import train_test_split\n",
    "\n",
    "# split data: 80% for training, 20% for testing\n",
    "X_train, X_test, y_train, y_test = train_test_split(X, y, test_size=0.2, random_state=42 )\n",
    "\n",
    "print(\"Training samples:\", X_train.shape[0])\n",
    "print(\"Testing samples:\", X_test.shape[0])\n"
   ]
  },
  {
   "cell_type": "markdown",
   "id": "90bf972d",
   "metadata": {},
   "source": [
    "The dataset was divided into 80% training and 20% testing.\n",
    "The training data is used to teach the model, while the test data checks how well it performs on unseen data.\n"
   ]
  },
  {
   "cell_type": "markdown",
   "id": "1b0623db",
   "metadata": {},
   "source": [
    "### Handling Non-Numeric Data\n",
    "The dataset included a text column (\"Area\") representing countries or regions.\n",
    "Since this information is important, it was not removed.\n",
    "Instead, I converted it into numeric form using one-hot encoding.\n",
    "This allowed all models to use regional information while still working with numeric inputs.\n",
    "Scaling was applied only to the models that required it (Linear and Ridge Regression)."
   ]
  },
  {
   "cell_type": "code",
   "execution_count": 57,
   "id": "e33b8662",
   "metadata": {},
   "outputs": [
    {
     "name": "stdout",
     "output_type": "stream",
     "text": [
      "Missing values before scaling: 5355\n",
      "Missing values after fill: 0\n"
     ]
    }
   ],
   "source": [
    "# check for missing values\n",
    "print(\"Missing values before scaling:\", X_train.isnull().sum().sum())\n",
    "\n",
    "# fill missing values with the column mean (or 0 if you prefer)\n",
    "X_train = X_train.fillna(X_train.mean(numeric_only=True))\n",
    "X_test = X_test.fillna(X_test.mean(numeric_only=True))\n",
    "\n",
    "print(\"Missing values after fill:\", X_train.isnull().sum().sum())\n"
   ]
  },
  {
   "cell_type": "markdown",
   "id": "6d08229d",
   "metadata": {},
   "source": [
    "These three models represent a simple linear approach, a regularized version, and a more flexible tree-based model.\n"
   ]
  },
  {
   "cell_type": "code",
   "execution_count": 59,
   "id": "e3ccc2e0",
   "metadata": {},
   "outputs": [],
   "source": [
    "\n",
    "# scale for linear & ridge\n",
    "from sklearn.preprocessing import StandardScaler\n",
    "scaler = StandardScaler()\n",
    "scaler.fit(X_train)\n",
    "\n",
    "X_train_scaled = scaler.transform(X_train)\n",
    "X_test_scaled = scaler.transform(X_test)\n",
    "\n"
   ]
  },
  {
   "cell_type": "markdown",
   "id": "f13bd024",
   "metadata": {},
   "source": [
    "#  Step 5: Train and Evaluate Models\n",
    "\n",
    "In this step, I trained and evaluated three different regression models to predict the average temperature using agricultural and environmental data.\n",
    "\n",
    "## Models Used\n",
    "1. **Linear Regression** – a simple baseline model  \n",
    "2. **Ridge Regression** – similar to linear regression but includes regularization to reduce overfitting  \n",
    "3. **Random Forest Regressor** – a tree-based model that captures complex, non-linear relationships\n",
    "\n",
    "## Evaluation Metrics\n",
    "The models were compared using three common evaluation metrics:\n",
    "\n",
    "- **R² Score** → Measures how well the model explains the variation in the data  \n",
    "  *(Higher is better)*  \n",
    "- **MAE (Mean Absolute Error)** → Shows the average size of the prediction errors  \n",
    "  *(Lower is better)*  \n",
    "- **RMSE (Root Mean Squared Error)** → Similar to MAE but gives more weight to larger errors  \n",
    "  *(Lower is better)*\n",
    "\n",
    "After training and testing each model, the results were collected and compared using these metrics to determine which model performed best.\n"
   ]
  },
  {
   "cell_type": "code",
   "execution_count": 61,
   "id": "dc6ac54e",
   "metadata": {},
   "outputs": [
    {
     "name": "stdout",
     "output_type": "stream",
     "text": [
      "All models trained successfully.\n"
     ]
    }
   ],
   "source": [
    "# import the models\n",
    "from sklearn.linear_model import LinearRegression, Ridge\n",
    "from sklearn.ensemble import RandomForestRegressor\n",
    "\n",
    "# create model objects\n",
    "model_linear = LinearRegression()\n",
    "model_ridge = Ridge(alpha=1.0)\n",
    "model_rf = RandomForestRegressor(random_state=42, n_estimators=300)\n",
    "\n",
    "# fit models\n",
    "model_linear.fit(X_train_scaled, y_train)\n",
    "model_ridge.fit(X_train_scaled, y_train)\n",
    "model_rf.fit(X_train, y_train)  # Random forest doesn’t need scaled data\n",
    "\n",
    "print(\"All models trained successfully.\")\n"
   ]
  },
  {
   "cell_type": "markdown",
   "id": "d0765426",
   "metadata": {},
   "source": [
    "# Step 5: Train and Evaluate Models"
   ]
  },
  {
   "cell_type": "code",
   "execution_count": 64,
   "id": "840646f7",
   "metadata": {},
   "outputs": [
    {
     "name": "stdout",
     "output_type": "stream",
     "text": [
      "Model Performance:\n",
      "-------------------\n",
      "Linear Regression  -> R2: 0.516, MAE: 0.285, RMSE: 0.385\n",
      "Ridge Regression   -> R2: 0.517, MAE: 0.286, RMSE: 0.385\n",
      "Random Forest      -> R2: 0.640, MAE: 0.244, RMSE: 0.332\n"
     ]
    }
   ],
   "source": [
    "# Step 5: Evaluate Models (simple and easy to read)\n",
    "\n",
    "from sklearn.metrics import r2_score, mean_absolute_error, mean_squared_error\n",
    "import numpy as np\n",
    "\n",
    "# make predictions\n",
    "y_pred_linear = model_linear.predict(X_test_scaled)\n",
    "y_pred_ridge  = model_ridge.predict(X_test_scaled)\n",
    "y_pred_rf     = model_rf.predict(X_test)\n",
    "\n",
    "# calculate metrics one by one\n",
    "r2_linear = r2_score(y_test, y_pred_linear)\n",
    "r2_ridge  = r2_score(y_test, y_pred_ridge)\n",
    "r2_rf     = r2_score(y_test, y_pred_rf)\n",
    "\n",
    "mae_linear = mean_absolute_error(y_test, y_pred_linear)\n",
    "mae_ridge  = mean_absolute_error(y_test, y_pred_ridge)\n",
    "mae_rf     = mean_absolute_error(y_test, y_pred_rf)\n",
    "\n",
    "rmse_linear = np.sqrt(mean_squared_error(y_test, y_pred_linear))\n",
    "rmse_ridge  = np.sqrt(mean_squared_error(y_test, y_pred_ridge))\n",
    "rmse_rf     = np.sqrt(mean_squared_error(y_test, y_pred_rf))\n",
    "\n",
    "# print results in a clean way\n",
    "print(\"Model Performance:\")\n",
    "print(\"-------------------\")\n",
    "print(f\"Linear Regression  -> R2: {r2_linear:.3f}, MAE: {mae_linear:.3f}, RMSE: {rmse_linear:.3f}\")\n",
    "print(f\"Ridge Regression   -> R2: {r2_ridge:.3f}, MAE: {mae_ridge:.3f}, RMSE: {rmse_ridge:.3f}\")\n",
    "print(f\"Random Forest      -> R2: {r2_rf:.3f}, MAE: {mae_rf:.3f}, RMSE: {rmse_rf:.3f}\")\n"
   ]
  },
  {
   "cell_type": "markdown",
   "id": "7af65673",
   "metadata": {},
   "source": [
    "# Step 5: Train and Evaluate Models\n",
    "\n",
    "I trained three models to predict the average temperature:\n",
    "Linear Regression, Ridge Regression, and Random Forest Regressor.\n",
    "\n",
    "To check how well they worked, I used three basic metrics:\n",
    "R2 score, Mean Absolute Error (MAE), and Root Mean Squared Error (RMSE).\n",
    "\n",
    "The results were:\n",
    "\n",
    "Linear Regression -> R2: 0.516, MAE: 0.285, RMSE: 0.385  \n",
    "Ridge Regression  -> R2: 0.517, MAE: 0.286, RMSE: 0.385  \n",
    "Random Forest     -> R2: 0.640, MAE: 0.244, RMSE: 0.332  \n",
    "\n",
    "From the results, Random Forest performed the best because it had the highest R2 score and the lowest error values.\n",
    "The linear and ridge models gave similar results, but Random Forest was more accurate overall.\n"
   ]
  },
  {
   "cell_type": "code",
   "execution_count": 65,
   "id": "a75954ec",
   "metadata": {},
   "outputs": [
    {
     "data": {
      "image/png": "[encoded data removed]",
      "text/plain": [
       "<Figure size 600x400 with 1 Axes>"
      ]
     },
     "metadata": {},
     "output_type": "display_data"
    }
   ],
   "source": [
    "# Histogram for Average Temperature\n",
    "import matplotlib.pyplot as plt\n",
    "\n",
    "plt.figure(figsize=(6,4))\n",
    "plt.hist(data[\"Average_Temperature_C\"], bins=30, color='skyblue', edgecolor='black')\n",
    "plt.title(\"Distribution of Average Temperature\")\n",
    "plt.xlabel(\"Average Temperature (C)\")\n",
    "plt.ylabel(\"Frequency\")\n",
    "plt.show()\n"
   ]
  },
  {
   "cell_type": "code",
   "execution_count": 66,
   "id": "edaf501f",
   "metadata": {},
   "outputs": [
    {
     "data": {
      "image/png": "[encoded data removed]",
      "text/plain": [
       "<Figure size 600x400 with 1 Axes>"
      ]
     },
     "metadata": {},
     "output_type": "display_data"
    }
   ],
   "source": [
    "# Scatter plot: Temperature vs Total Emissions\n",
    "plt.figure(figsize=(6,4))\n",
    "plt.scatter(data[\"total_emission\"], data[\"Average_Temperature_C\"], alpha=0.5, color='green')\n",
    "plt.title(\"Temperature vs Total Emissions\")\n",
    "plt.xlabel(\"Total Emissions\")\n",
    "plt.ylabel(\"Average Temperature (C)\")\n",
    "plt.show()\n"
   ]
  },
  {
   "cell_type": "markdown",
   "id": "26406df0",
   "metadata": {},
   "source": [
    "### Visualization\n",
    "I created a histogram to see how temperature values are distributed,\n",
    "and a scatter plot to check how temperature changes with emissions .\n",
    "The scatter plot shows a slight upward trend, meaning higher emissions\n",
    "are linked to slightly higher average temperatures.\n"
   ]
  }
 ],
 "metadata": {
  "kernelspec": {
   "display_name": "Python 3",
   "language": "python",
   "name": "python3"
  },
  "language_info": {
   "codemirror_mode": {
    "name": "ipython",
    "version": 3
   },
   "file_extension": ".py",
   "mimetype": "text/x-python",
   "name": "python",
   "nbconvert_exporter": "python",
   "pygments_lexer": "ipython3",
   "version": "3.13.7"
  }
 },
 "nbformat": 4,
 "nbformat_minor": 5
}
